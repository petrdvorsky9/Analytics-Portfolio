{
 "cells": [
  {
   "cell_type": "markdown",
   "id": "31ab2131-3049-4d8d-b9dc-d195f72af27a",
   "metadata": {
    "jupyter": {
     "outputs_hidden": false,
     "source_hidden": true
    }
   },
   "source": [
    "![Los Angeles skyline](la_skyline.jpg)\n",
    "\n",
    "Los Angeles, California 😎. The City of Angels. Tinseltown. The Entertainment Capital of the World! \n",
    "\n",
    "Known for its warm weather, palm trees, sprawling coastline, and Hollywood, along with producing some of the most iconic films and songs. However, as with any highly populated city, it isn't always glamorous and there can be a large volume of crime. That's where you can help!\n",
    "\n",
    "You have been asked to support the Los Angeles Police Department (LAPD) by analyzing crime data to identify patterns in criminal behavior. They plan to use your insights to allocate resources effectively to tackle various crimes in different areas.\n",
    "\n",
    "## The Data\n",
    "\n",
    "They have provided you with a single dataset to use. A summary and preview are provided below.\n",
    "\n",
    "It is a modified version of the original data, which is publicly available from Los Angeles Open Data.\n",
    "\n",
    "# crimes.csv\n",
    "\n",
    "| Column     | Description              |\n",
    "|------------|--------------------------|\n",
    "| `'DR_NO'` | Division of Records Number: Official file number made up of a 2-digit year, area ID, and 5 digits. |\n",
    "| `'Date Rptd'` | Date reported - MM/DD/YYYY. |\n",
    "| `'DATE OCC'` | Date of occurrence - MM/DD/YYYY. |\n",
    "| `'TIME OCC'` | In 24-hour military time. |\n",
    "| `'AREA NAME'` | The 21 Geographic Areas or Patrol Divisions are also given a name designation that references a landmark or the surrounding community that it is responsible for. For example, the 77th Street Division is located at the intersection of South Broadway and 77th Street, serving neighborhoods in South Los Angeles. |\n",
    "| `'Crm Cd Desc'` | Indicates the crime committed. |\n",
    "| `'Vict Age'` | Victim's age in years. |\n",
    "| `'Vict Sex'` | Victim's sex: `F`: Female, `M`: Male, `X`: Unknown. |\n",
    "| `'Vict Descent'` | Victim's descent:<ul><li>`A` - Other Asian</li><li>`B` - Black</li><li>`C` - Chinese</li><li>`D` - Cambodian</li><li>`F` - Filipino</li><li>`G` - Guamanian</li><li>`H` - Hispanic/Latin/Mexican</li><li>`I` - American Indian/Alaskan Native</li><li>`J` - Japanese</li><li>`K` - Korean</li><li>`L` - Laotian</li><li>`O` - Other</li><li>`P` - Pacific Islander</li><li>`S` - Samoan</li><li>`U` - Hawaiian</li><li>`V` - Vietnamese</li><li>`W` - White</li><li>`X` - Unknown</li><li>`Z` - Asian Indian</li> |\n",
    "| `'Weapon Desc'` | Description of the weapon used (if applicable). |\n",
    "| `'Status Desc'` | Crime status. |\n",
    "| `'LOCATION'` | Street address of the crime. |"
   ]
  },
  {
   "cell_type": "code",
   "execution_count": null,
   "id": "7c6c3c36-5c8b-4cce-8681-95292b8f0861",
   "metadata": {
    "chartConfig": {
     "bar": {
      "hasRoundedCorners": true,
      "stacked": false
     },
     "type": "line",
     "version": "v1"
    },
    "executionCancelledAt": null,
    "executionTime": 432,
    "jupyter": {
     "outputs_hidden": false,
     "source_hidden": false
    },
    "lastExecutedAt": 1693489918537,
    "lastScheduledRunId": null,
    "lastSuccessfullyExecutedCode": "# Re-run this cell\n# Import required libraries\nimport pandas as pd\nimport numpy as np\nimport matplotlib.pyplot as plt\nimport seaborn as sns\ncrimes = pd.read_csv(\"crimes.csv\", parse_dates=[\"Date Rptd\", \"DATE OCC\"], dtype={\"TIME OCC\": str})\ncrimes.head()",
    "outputsMetadata": {
     "0": {
      "height": 211,
      "type": "dataFrame"
     }
    },
    "visualizeDataframe": false
   },
   "outputs": [],
   "source": [
    "import pandas as pd\n",
    "import numpy as np\n",
    "import matplotlib.pyplot as plt\n",
    "import seaborn as sns\n",
    "\n",
    "crimes = pd.read_csv(\"crimes.csv\", parse_dates=[\"Date Rptd\", \"DATE OCC\"], dtype={\"TIME OCC\": str})\n",
    "crimes.head()"
   ]
  },
  {
   "cell_type": "markdown",
   "id": "94d4c9f5-4fa0-4134-83b1-20649bfb6cda",
   "metadata": {
    "jupyter": {
     "outputs_hidden": false,
     "source_hidden": false
    }
   },
   "source": [
    "## Which hour has the highest frequency of crimes? Store as an integer variable called peak_crime_hour."
   ]
  },
  {
   "cell_type": "code",
   "execution_count": null,
   "id": "12c96367-1983-4089-9365-39cb5e8af7dd",
   "metadata": {
    "executionCancelledAt": null,
    "executionTime": 48,
    "jupyter": {
     "outputs_hidden": false,
     "source_hidden": false
    },
    "lastExecutedAt": 1693489918636,
    "lastScheduledRunId": null,
    "lastSuccessfullyExecutedCode": "# Get the number of unique DR_NO values\n\nnum_unique_DR_NO = crimes['DR_NO'].nunique()\n\nnum_unique_DR_NO"
   },
   "outputs": [],
   "source": [
    "# Get the number of unique DR_NO values\n",
    "\n",
    "num_unique_DR_NO = crimes['DR_NO'].nunique()\n",
    "\n",
    "num_unique_DR_NO"
   ]
  },
  {
   "cell_type": "code",
   "execution_count": null,
   "id": "d772187f-7413-4b08-b9cb-afaf997c662b",
   "metadata": {
    "executionCancelledAt": null,
    "executionTime": 55,
    "jupyter": {
     "outputs_hidden": false,
     "source_hidden": false
    },
    "lastExecutedAt": 1693489918691,
    "lastScheduledRunId": null,
    "lastSuccessfullyExecutedCode": "# Getting number of unique crimes by TIME OCC and sorting descending\n\ncrime_hours = crimes.groupby(by='TIME OCC')['DR_NO'].nunique().sort_values(ascending=False)\ncrime_hours"
   },
   "outputs": [],
   "source": [
    "# Getting number of unique crimes by TIME OCC and sorting descending\n",
    "\n",
    "crime_hours = crimes.groupby(by='TIME OCC')['DR_NO'].nunique().sort_values(ascending=False)\n",
    "crime_hours"
   ]
  },
  {
   "cell_type": "code",
   "execution_count": null,
   "id": "256ea371-c21b-4497-bbaf-5563f076547d",
   "metadata": {
    "executionCancelledAt": null,
    "executionTime": 49,
    "lastExecutedAt": 1693489918740,
    "lastScheduledRunId": null,
    "lastSuccessfullyExecutedCode": "# Casting peak_crime_hour string to integer\n\npeak_crime_hour = int(str(crime_hours.index[0])[:2])\n\n# Result: Peak crime hour is 1200\npeak_crime_hour"
   },
   "outputs": [],
   "source": [
    "# Casting peak_crime_hour string to integer\n",
    "\n",
    "peak_crime_hour = int(str(crime_hours.index[0])[:2])\n",
    "\n",
    "# Result: Peak crime hour is 1200\n",
    "peak_crime_hour"
   ]
  },
  {
   "cell_type": "markdown",
   "id": "ef06d2d2-2376-47eb-8ea6-bd6d695f8fb3",
   "metadata": {},
   "source": [
    "## Which area has the largest frequency of night crimes (crimes committed between 10pm and 4am)? Save as a string variable called peak_night_crime_location."
   ]
  },
  {
   "cell_type": "code",
   "execution_count": null,
   "id": "8b1bd45a-84b0-44f8-94e9-4da8a37b9a7d",
   "metadata": {
    "executionCancelledAt": null,
    "executionTime": 60,
    "jupyter": {
     "outputs_hidden": true,
     "source_hidden": false
    },
    "lastExecutedAt": 1693489918800,
    "lastScheduledRunId": null,
    "lastSuccessfullyExecutedCode": "# Casting TIME OCC as int\n\ncrimes['TIME OCC'] = crimes['TIME OCC'].astype(int)\ncrimes.head()",
    "outputsMetadata": {
     "0": {
      "height": 333,
      "type": "dataFrame"
     }
    }
   },
   "outputs": [],
   "source": [
    "# Casting TIME OCC as int\n",
    "\n",
    "crimes['TIME OCC'] = crimes['TIME OCC'].astype(int)\n",
    "crimes.head()"
   ]
  },
  {
   "cell_type": "code",
   "execution_count": null,
   "id": "f113995b-2b48-4dad-9423-896d3d76bc95",
   "metadata": {
    "executionCancelledAt": null,
    "executionTime": 53,
    "jupyter": {
     "outputs_hidden": true,
     "source_hidden": false
    },
    "lastExecutedAt": 1693489918853,
    "lastScheduledRunId": null,
    "lastSuccessfullyExecutedCode": "# Getting subset of crimes df called night crimes (between 2200 and 0400) \n\n# Define condition of night crimes\n\nnc_condition = (crimes['TIME OCC'] >= 2200) | (crimes['TIME OCC'] <= 400)\n\n# Subset original df according to condition\nnight_crimes = crimes[nc_condition]\nnight_crimes.head()",
    "outputsMetadata": {
     "0": {
      "height": 333,
      "type": "dataFrame"
     }
    }
   },
   "outputs": [],
   "source": [
    "# Getting subset of crimes df called night crimes (between 2200 and 0400) \n",
    "\n",
    "# Define condition of night crimes\n",
    "\n",
    "nc_condition = (crimes['TIME OCC'] >= 2200) | (crimes['TIME OCC'] <= 400)\n",
    "\n",
    "# Subset original df according to condition\n",
    "night_crimes = crimes[nc_condition]\n",
    "night_crimes.head()"
   ]
  },
  {
   "cell_type": "code",
   "execution_count": null,
   "id": "d9c54d76-f228-4a95-8def-445a6535ddf8",
   "metadata": {
    "executionCancelledAt": null,
    "executionTime": 55,
    "jupyter": {
     "outputs_hidden": true,
     "source_hidden": false
    },
    "lastExecutedAt": 1693489918908,
    "lastScheduledRunId": null,
    "lastSuccessfullyExecutedCode": "# Getting the list of areas with count of night crimes sorted descending\n\nnight_crimes_areas = crimes.groupby(by='AREA NAME')['DR_NO'].nunique().sort_values(ascending=False)\nnight_crimes_areas"
   },
   "outputs": [],
   "source": [
    "# Getting the list of areas with count of night crimes sorted descending\n",
    "\n",
    "night_crimes_areas = crimes.groupby(by='AREA NAME')['DR_NO'].nunique().sort_values(ascending=False)\n",
    "night_crimes_areas"
   ]
  },
  {
   "cell_type": "code",
   "execution_count": null,
   "id": "4b50a390-b8c7-416e-aab9-e8e9bcc69df2",
   "metadata": {
    "executionCancelledAt": null,
    "executionTime": 47,
    "lastExecutedAt": 1693489918956,
    "lastScheduledRunId": null,
    "lastSuccessfullyExecutedCode": "# Result: Peak night crime location is '10200    SANTA MONICA                 BL'\n\npeak_night_crime_location = str(night_crimes_areas.index[0])\npeak_night_crime_location"
   },
   "outputs": [],
   "source": [
    "# Result: Peak night crime location is '10200    SANTA MONICA                 BL'\n",
    "\n",
    "peak_night_crime_location = str(night_crimes_areas.index[0])\n",
    "peak_night_crime_location"
   ]
  },
  {
   "cell_type": "markdown",
   "id": "d0695d5f-45fb-49f7-b2a0-9749a7272b3d",
   "metadata": {},
   "source": [
    "## Identify the number of crimes committed against victims by age group (<18, 18-25, 26-34, 35-44, 45-54, 55-64, 65+). Save as a pandas Series called victim_ages."
   ]
  },
  {
   "cell_type": "code",
   "execution_count": null,
   "id": "4ad09718-877e-42da-a16a-02275bb76aeb",
   "metadata": {
    "executionCancelledAt": null,
    "executionTime": 47,
    "jupyter": {
     "outputs_hidden": false,
     "source_hidden": false
    },
    "lastExecutedAt": 1693489919004,
    "lastScheduledRunId": null,
    "lastSuccessfullyExecutedCode": "age_bins = [0, 17, 25, 34, 44, 54, 64, np.inf]\nage_labels = [\"<18\", \"18-25\", \"26-34\", \"35-44\", \"45-54\", \"55-64\", \"65+\"]\n\n# Add a new column using pd.cut() to bin values into discrete intervals\ncrimes[\"Age Bracket\"] = pd.cut(crimes[\"Vict Age\"],\n                               bins=age_bins,\n                               labels=age_labels)\n\n# Find the category with the largest frequency\nvictim_ages = crimes[\"Age Bracket\"].value_counts()\nvictim_ages"
   },
   "outputs": [],
   "source": [
    "age_bins = [0, 17, 25, 34, 44, 54, 64, np.inf]\n",
    "age_labels = [\"<18\", \"18-25\", \"26-34\", \"35-44\", \"45-54\", \"55-64\", \"65+\"]\n",
    "\n",
    "# Add a new column using pd.cut() to bin values into discrete intervals\n",
    "crimes[\"Age Bracket\"] = pd.cut(crimes[\"Vict Age\"],\n",
    "                               bins=age_bins,\n",
    "                               labels=age_labels)\n",
    "\n",
    "# Find the category with the largest frequency\n",
    "victim_ages = crimes[\"Age Bracket\"].value_counts()\n",
    "victim_ages"
   ]
  }
 ],
 "metadata": {
  "colab": {
   "name": "Welcome to DataCamp Workspaces.ipynb",
   "provenance": []
  },
  "kernelspec": {
   "display_name": "Python 3 (ipykernel)",
   "language": "python",
   "name": "python3"
  },
  "language_info": {
   "codemirror_mode": {
    "name": "ipython",
    "version": 3
   },
   "file_extension": ".py",
   "mimetype": "text/x-python",
   "name": "python",
   "nbconvert_exporter": "python",
   "pygments_lexer": "ipython3",
   "version": "3.9.13"
  }
 },
 "nbformat": 4,
 "nbformat_minor": 5
}
